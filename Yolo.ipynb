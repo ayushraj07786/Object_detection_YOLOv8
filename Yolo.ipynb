{
 "cells": [
  {
   "cell_type": "code",
   "execution_count": 67,
   "metadata": {},
   "outputs": [
    {
     "name": "stdout",
     "output_type": "stream",
     "text": [
      "Ultralytics YOLOv8.1.37 🚀 Python-3.12.2 torch-2.2.1 CPU (Intel Core(TM) i3-7100U 2.40GHz)\n",
      "Setup complete ✅ (4 CPUs, 3.9 GB RAM, 159.9/183.4 GB disk)\n"
     ]
    }
   ],
   "source": [
    "import os\n",
    "import cv2\n",
    "import random\n",
    "import numpy as np\n",
    "import pandas as pd\n",
    "from tqdm import tqdm\n",
    "import shutil\n",
    "from shutil import copyfile\n",
    "import matplotlib.pyplot as plt\n",
    "from matplotlib import animation, rc\n",
    "rc('animation', html='jshtml')\n",
    "from PIL import Image\n",
    "import ultralytics\n",
    "from ultralytics import YOLO\n",
    "ultralytics.checks()\n"
   ]
  },
  {
   "cell_type": "code",
   "execution_count": 68,
   "metadata": {},
   "outputs": [],
   "source": [
    "\n",
    "train_path='C:/Users/hp/python/datasets/train'\n",
    "valid_path='C:/Users/hp/python/datasets/valid'\n",
    "test_path='C:/Users/hp/python/datasets/test'\n"
   ]
  },
  {
   "cell_type": "code",
   "execution_count": 88,
   "metadata": {},
   "outputs": [
    {
     "name": "stdout",
     "output_type": "stream",
     "text": [
      "150\n",
      "[41, 135, 105, 89, 15, 54, 5, 134, 6, 49, 106, 83, 86, 42, 126, 72, 90, 139, 16, 110, 98, 129, 61, 39, 8, 137, 77, 12, 109, 79, 97, 146, 52, 50, 63, 104, 60, 2, 114, 44, 17, 35, 75, 3, 88, 38, 37, 99, 76, 124, 68, 21, 143, 91, 1, 125, 31, 95, 30, 14, 40, 107, 19, 100, 133, 113, 128, 66, 65, 28, 96, 18, 130, 20, 56, 136, 145, 101, 111, 74, 127, 94, 13, 43, 93, 7, 9, 26, 123, 55]\n",
      "[48, 24, 57, 36, 70, 141, 87, 78, 140, 11, 45, 22, 81, 62, 149, 59, 108, 116, 46, 23, 10, 32, 80, 69, 67, 33, 85, 144, 27, 117]\n",
      "[84, 131, 102, 119, 147, 58, 4, 92, 122, 120, 0, 29, 64, 82, 121, 103, 142, 51, 132, 25, 34, 71, 148, 47, 112, 115, 53, 73, 118, 138]\n"
     ]
    }
   ],
   "source": [
    "ano_paths=[]\n",
    "for dirname, _, filenames in os.walk('C:/Users/hp/python/datasets'):\n",
    "    for filename in filenames:\n",
    "        if filename[-4:]=='.txt':\n",
    "            ano_paths+=[(os.path.join(dirname, filename))]\n",
    "        \n",
    "n=len(ano_paths) \n",
    "print(n)\n",
    "N=list(range(n))\n",
    "random.shuffle(N)\n",
    "\n",
    "train_ratio = 0.6\n",
    "valid_ratio = 0.2\n",
    "test_ratio = 0.2\n",
    "\n",
    "train_size = int(train_ratio*n)\n",
    "valid_size = int(valid_ratio*n)\n",
    "train_i = N[:train_size]\n",
    "valid_i = N[train_size:train_size+valid_size]\n",
    "test_i = N[train_size+valid_size:]\n",
    "\n",
    "print(train_i)\n",
    "print(valid_i)\n",
    "print(test_i)\n"
   ]
  },
  {
   "cell_type": "code",
   "execution_count": 84,
   "metadata": {},
   "outputs": [
    {
     "name": "stdout",
     "output_type": "stream",
     "text": [
      "86\n"
     ]
    }
   ],
   "source": [
    "import os\n",
    "import shutil\n",
    "\n",
    "for i in train_i:\n",
    "    ano_path = ano_paths[i]\n",
    "    img_path = os.path.join('C:/Users/hp/python/datasets/train',\n",
    "                            os.path.basename(ano_path)[:-4] + '.jpg')\n",
    "    try:\n",
    "        shutil.copy(ano_path, train_path)\n",
    "        shutil.copy(img_path, train_path)\n",
    "    except Exception as e:\n",
    "        continue\n",
    "\n",
    "\n",
    "print(len(os.listdir(train_path)))\n"
   ]
  },
  {
   "cell_type": "code",
   "execution_count": 71,
   "metadata": {},
   "outputs": [
    {
     "name": "stdout",
     "output_type": "stream",
     "text": [
      "214\n"
     ]
    }
   ],
   "source": [
    "import os\n",
    "import shutil\n",
    "\n",
    "for i in valid_i:\n",
    "    ano_path = ano_paths[i]\n",
    "    img_path = os.path.join('C:/Users/hp/python/datasets/train',\n",
    "                            os.path.basename(ano_path)[:-4] + '.jpg')\n",
    "    try:\n",
    "        shutil.copy(ano_path, valid_path)\n",
    "        shutil.copy(img_path, valid_path)\n",
    "    except Exception as e:\n",
    "        print(f\"Error copying files: {e}\")\n",
    "        continue\n",
    "\n",
    "print(len(os.listdir(valid_path)))\n",
    "\n"
   ]
  },
  {
   "cell_type": "code",
   "execution_count": 72,
   "metadata": {},
   "outputs": [
    {
     "name": "stdout",
     "output_type": "stream",
     "text": [
      "182\n"
     ]
    }
   ],
   "source": [
    "import os\n",
    "import shutil\n",
    "\n",
    "for i in test_i:\n",
    "    ano_path = ano_paths[i]\n",
    "    img_path = os.path.join('C:/Users/hp/python/datasets/train',\n",
    "                            os.path.basename(ano_path)[:-4] + '.jpg')\n",
    "    try:\n",
    "        shutil.copy(ano_path, test_path)\n",
    "        shutil.copy(img_path, test_path)\n",
    "    except Exception as e:\n",
    "        print(f\"Error copying files: {e}\")\n",
    "        continue\n",
    "\n",
    "print(len(os.listdir(test_path)))\n"
   ]
  },
  {
   "cell_type": "code",
   "execution_count": 87,
   "metadata": {},
   "outputs": [
    {
     "name": "stdout",
     "output_type": "stream",
     "text": [
      "{names: [Objects], nc: 1, test: test, train: train, val: valid}\n",
      "\n"
     ]
    }
   ],
   "source": [
    "import yaml\n",
    "\n",
    "data_yaml = dict(\n",
    "    train ='train',\n",
    "    val ='valid',\n",
    "    test='test',\n",
    "    nc =1,\n",
    "    names =['Objects']\n",
    ")\n",
    "\n",
    "with open('data.yaml', 'w') as outfile:\n",
    "    yaml.dump(data_yaml, outfile, default_flow_style=True)\n",
    "with open('data.yaml', 'r') as file:\n",
    "    contents = file.read()\n",
    "    print(contents)\n",
    "    "
   ]
  },
  {
   "cell_type": "code",
   "execution_count": 74,
   "metadata": {},
   "outputs": [],
   "source": [
    "names =['Objects']\n",
    "M=list(range(len(names)))\n",
    "class_map=dict(zip(M,names))\n"
   ]
  },
  {
   "cell_type": "code",
   "execution_count": 75,
   "metadata": {},
   "outputs": [],
   "source": [
    "model = YOLO(\"yolov8x.pt\") \n"
   ]
  },
  {
   "cell_type": "code",
   "execution_count": 76,
   "metadata": {},
   "outputs": [
    {
     "name": "stderr",
     "output_type": "stream",
     "text": [
      "'yolo' is not recognized as an internal or external command,\n",
      "operable program or batch file.\n"
     ]
    }
   ],
   "source": [
    "!yolo task=detect mode=train model=yolov8x.pt data=data.yaml epochs=12 imgsz=480\n"
   ]
  },
  {
   "cell_type": "code",
   "execution_count": 77,
   "metadata": {},
   "outputs": [],
   "source": [
    "paths2=[]\n",
    "for dirname, _, filenames in os.walk('C:/Users/hp/python/runs/detect/train9'):\n",
    "    for filename in filenames:\n",
    "        if filename[-4:]=='.jpg':\n",
    "            paths2+=[(os.path.join(dirname, filename))]\n",
    "paths2=sorted(paths2)\n"
   ]
  },
  {
   "cell_type": "code",
   "execution_count": 78,
   "metadata": {},
   "outputs": [
    {
     "data": {
      "image/png": "[encoded data removed]",
      "text/plain": [
       "<Figure size 500x300 with 1 Axes>"
      ]
     },
     "metadata": {},
     "output_type": "display_data"
    }
   ],
   "source": [
    "data_points = [random.uniform(0, 1) for _ in train_path]  # Random confidence scores associated with each image\n",
    "\n",
    "path_indices = range(len(train_path))  # Indices to use as x-axis\n",
    "\n",
    "plt.figure(figsize=(5, 3))\n",
    "plt.plot(path_indices, data_points, marker='o', linestyle='-')\n",
    "plt.xlabel('Index')\n",
    "plt.ylabel('Confidence Score')\n",
    "plt.title('Line Graph of Confidence Scores')\n",
    "plt.grid(True)\n",
    "plt.show()\n"
   ]
  },
  {
   "cell_type": "code",
   "execution_count": 79,
   "metadata": {},
   "outputs": [],
   "source": [
    "best_path0='C:/Users/hp/python/yolov8x.pt'\n",
    "source0='C:/Users/hp/python/datasets/test'\n"
   ]
  },
  {
   "cell_type": "code",
   "execution_count": 80,
   "metadata": {},
   "outputs": [
    {
     "name": "stdout",
     "output_type": "stream",
     "text": [
      "C:/Users/hp/python/datasets/test\\frame-1075.jpg\n",
      "91\n"
     ]
    }
   ],
   "source": [
    "ppaths=[]\n",
    "for dirname, _, filenames in os.walk(source0):\n",
    "    for filename in filenames:\n",
    "        if filename[-4:]=='.jpg':\n",
    "            ppaths+=[(os.path.join(dirname, filename))]\n",
    "ppaths=sorted(ppaths)\n",
    "print(ppaths[0])\n",
    "print(len(ppaths))\n"
   ]
  },
  {
   "cell_type": "code",
   "execution_count": 81,
   "metadata": {},
   "outputs": [],
   "source": [
    "model2 = YOLO(best_path0)\n"
   ]
  },
  {
   "cell_type": "code",
   "execution_count": null,
   "metadata": {},
   "outputs": [],
   "source": [
    "!yolo task= detect mode=predict model={best_path0} conf=0.7 source={source0}\n"
   ]
  },
  {
   "cell_type": "code",
   "execution_count": 83,
   "metadata": {},
   "outputs": [
    {
     "name": "stderr",
     "output_type": "stream",
     "text": [
      "'yolo' is not recognized as an internal or external command,\n",
      "operable program or batch file.\n"
     ]
    },
    {
     "name": "stdout",
     "output_type": "stream",
     "text": [
      "\n",
      "image 1/91 C:\\Users\\hp\\python\\datasets\\test\\frame-1075.jpg: 384x640 3 persons, 2 cars, 2 motorcycles, 1 parking meter, 3674.2ms\n",
      "image 2/91 C:\\Users\\hp\\python\\datasets\\test\\frame-1110.jpg: 384x640 4 persons, 1 car, 1 motorcycle, 1 parking meter, 3187.9ms\n",
      "image 3/91 C:\\Users\\hp\\python\\datasets\\test\\frame-1235.jpg: 384x640 1 bus, 4420.8ms\n",
      "image 4/91 C:\\Users\\hp\\python\\datasets\\test\\frame-1240.jpg: 384x640 1 bus, 4369.1ms\n",
      "image 5/91 C:\\Users\\hp\\python\\datasets\\test\\frame-1270.jpg: 384x640 1 car, 1 bus, 1 truck, 1 parking meter, 2717.8ms\n",
      "image 6/91 C:\\Users\\hp\\python\\datasets\\test\\frame-1345.jpg: 384x640 1 car, 1 truck, 2913.7ms\n",
      "image 7/91 C:\\Users\\hp\\python\\datasets\\test\\frame-150.jpg: 384x640 1 person, 1 car, 2 trucks, 3150.6ms\n",
      "image 8/91 C:\\Users\\hp\\python\\datasets\\test\\frame-1550.jpg: 384x640 1 person, 1 motorcycle, 1 toilet, 2800.1ms\n",
      "image 9/91 C:\\Users\\hp\\python\\datasets\\test\\frame-1575.jpg: 384x640 1 person, 1 car, 1 motorcycle, 2659.2ms\n",
      "image 10/91 C:\\Users\\hp\\python\\datasets\\test\\frame-170.jpg: 384x640 1 person, 4 cars, 1 motorcycle, 1 truck, 1 parking meter, 3126.1ms\n",
      "image 11/91 C:\\Users\\hp\\python\\datasets\\test\\frame-1705.jpg: 384x640 1 car, 3191.5ms\n",
      "image 12/91 C:\\Users\\hp\\python\\datasets\\test\\frame-1710.jpg: 384x640 1 car, 2719.0ms\n",
      "image 13/91 C:\\Users\\hp\\python\\datasets\\test\\frame-1715.jpg: 384x640 1 car, 3347.5ms\n",
      "image 14/91 C:\\Users\\hp\\python\\datasets\\test\\frame-1725.jpg: 384x640 3 persons, 2 cars, 2 motorcycles, 1 truck, 3176.7ms\n",
      "image 15/91 C:\\Users\\hp\\python\\datasets\\test\\frame-175.jpg: 384x640 1 person, 4 cars, 1 motorcycle, 1 truck, 3062.4ms\n",
      "image 16/91 C:\\Users\\hp\\python\\datasets\\test\\frame-1800.jpg: 384x640 1 car, 1 truck, 2596.8ms\n",
      "image 17/91 C:\\Users\\hp\\python\\datasets\\test\\frame-1860.jpg: 384x640 1 car, 2 trucks, 3369.2ms\n",
      "image 18/91 C:\\Users\\hp\\python\\datasets\\test\\frame-1880.jpg: 384x640 1 person, 2 cars, 1 motorcycle, 1 truck, 3051.5ms\n",
      "image 19/91 C:\\Users\\hp\\python\\datasets\\test\\frame-190.jpg: 384x640 1 person, 1 car, 1 bus, 2 trucks, 3667.5ms\n",
      "image 20/91 C:\\Users\\hp\\python\\datasets\\test\\frame-1915.jpg: 384x640 2 persons, 2 cars, 1 motorcycle, 1 truck, 3974.5ms\n",
      "image 21/91 C:\\Users\\hp\\python\\datasets\\test\\frame-2010.jpg: 384x640 1 car, 1 bus, 6348.9ms\n",
      "image 22/91 C:\\Users\\hp\\python\\datasets\\test\\frame-2015.jpg: 384x640 1 car, 1 bus, 4002.2ms\n",
      "image 23/91 C:\\Users\\hp\\python\\datasets\\test\\frame-2065.jpg: 384x640 1 motorcycle, 1 bus, 1 truck, 4360.6ms\n",
      "image 24/91 C:\\Users\\hp\\python\\datasets\\test\\frame-2090.jpg: 384x640 1 bus, 1 truck, 3259.1ms\n",
      "image 25/91 C:\\Users\\hp\\python\\datasets\\test\\frame-2245.jpg: 384x640 1 car, 3423.2ms\n",
      "image 26/91 C:\\Users\\hp\\python\\datasets\\test\\frame-225.jpg: 384x640 1 person, 1 bicycle, 1 bus, 1 truck, 3482.8ms\n",
      "image 27/91 C:\\Users\\hp\\python\\datasets\\test\\frame-2270.jpg: 384x640 3 cars, 1 truck, 4142.5ms\n",
      "image 28/91 C:\\Users\\hp\\python\\datasets\\test\\frame-2280.jpg: 384x640 1 car, 1 truck, 4050.6ms\n",
      "image 29/91 C:\\Users\\hp\\python\\datasets\\test\\frame-2300.jpg: 384x640 1 truck, 6712.5ms\n",
      "image 30/91 C:\\Users\\hp\\python\\datasets\\test\\frame-2340.jpg: 384x640 3 cars, 5441.8ms\n",
      "image 31/91 C:\\Users\\hp\\python\\datasets\\test\\frame-2375.jpg: 384x640 1 car, 1 bus, 7396.0ms\n",
      "image 32/91 C:\\Users\\hp\\python\\datasets\\test\\frame-2475.jpg: 384x640 2 trucks, 3747.1ms\n",
      "image 33/91 C:\\Users\\hp\\python\\datasets\\test\\frame-2480.jpg: 384x640 1 motorcycle, 2 trucks, 3253.6ms\n",
      "image 34/91 C:\\Users\\hp\\python\\datasets\\test\\frame-25.jpg: 384x640 3 cars, 3103.2ms\n",
      "image 35/91 C:\\Users\\hp\\python\\datasets\\test\\frame-2540.jpg: 384x640 2 cars, 3228.5ms\n",
      "image 36/91 C:\\Users\\hp\\python\\datasets\\test\\frame-2550.jpg: 384x640 1 car, 1 truck, 3161.6ms\n",
      "image 37/91 C:\\Users\\hp\\python\\datasets\\test\\frame-260.jpg: 384x640 1 person, 1 bicycle, 1 truck, 3108.6ms\n",
      "image 38/91 C:\\Users\\hp\\python\\datasets\\test\\frame-2600.jpg: 384x640 3 cars, 1 truck, 2875.1ms\n",
      "image 39/91 C:\\Users\\hp\\python\\datasets\\test\\frame-2610.jpg: 384x640 4 cars, 1 truck, 1 parking meter, 2588.4ms\n",
      "image 40/91 C:\\Users\\hp\\python\\datasets\\test\\frame-265.jpg: 384x640 1 person, 2 cars, 1 motorcycle, 2622.7ms\n",
      "image 41/91 C:\\Users\\hp\\python\\datasets\\test\\frame-2650.jpg: 384x640 1 car, 1 truck, 2612.2ms\n",
      "image 42/91 C:\\Users\\hp\\python\\datasets\\test\\frame-2665.jpg: 384x640 3 cars, 2621.1ms\n",
      "image 43/91 C:\\Users\\hp\\python\\datasets\\test\\frame-270.jpg: 384x640 2 persons, 2 cars, 1 motorcycle, 2604.8ms\n",
      "image 44/91 C:\\Users\\hp\\python\\datasets\\test\\frame-2735.jpg: 384x640 1 person, 3 cars, 1 motorcycle, 2664.5ms\n",
      "image 45/91 C:\\Users\\hp\\python\\datasets\\test\\frame-2760.jpg: 384x640 3 cars, 1 truck, 2527.1ms\n",
      "image 46/91 C:\\Users\\hp\\python\\datasets\\test\\frame-2785.jpg: 384x640 1 person, 4 cars, 1 motorcycle, 2607.7ms\n",
      "image 47/91 C:\\Users\\hp\\python\\datasets\\test\\frame-2810.jpg: 384x640 1 bus, 2 trucks, 2693.6ms\n",
      "image 48/91 C:\\Users\\hp\\python\\datasets\\test\\frame-2855.jpg: 384x640 1 car, 1 bus, 1 truck, 2477.6ms\n",
      "image 49/91 C:\\Users\\hp\\python\\datasets\\test\\frame-2925.jpg: 384x640 1 bus, 2606.0ms\n",
      "image 50/91 C:\\Users\\hp\\python\\datasets\\test\\frame-2955.jpg: 384x640 1 bus, 1 parking meter, 3321.5ms\n",
      "image 51/91 C:\\Users\\hp\\python\\datasets\\test\\frame-30.jpg: 384x640 3 cars, 2544.8ms\n",
      "image 52/91 C:\\Users\\hp\\python\\datasets\\test\\frame-3000.jpg: 384x640 2 cars, 1 bus, 2528.4ms\n",
      "image 53/91 C:\\Users\\hp\\python\\datasets\\test\\frame-305.jpg: 384x640 2 cars, 2570.9ms\n",
      "image 54/91 C:\\Users\\hp\\python\\datasets\\test\\frame-3055.jpg: 384x640 1 person, 1 car, 1 motorcycle, 1 bus, 2490.5ms\n",
      "image 55/91 C:\\Users\\hp\\python\\datasets\\test\\frame-3115.jpg: 384x640 1 person, 2 cars, 1 motorcycle, 2506.0ms\n",
      "image 56/91 C:\\Users\\hp\\python\\datasets\\test\\frame-3135.jpg: 384x640 2 trucks, 2566.6ms\n",
      "image 57/91 C:\\Users\\hp\\python\\datasets\\test\\frame-315.jpg: 384x640 2 cars, 2519.8ms\n",
      "image 58/91 C:\\Users\\hp\\python\\datasets\\test\\frame-3155.jpg: 384x640 1 car, 3 trucks, 2595.8ms\n",
      "image 59/91 C:\\Users\\hp\\python\\datasets\\test\\frame-3240.jpg: 384x640 1 person, 1 car, 2487.9ms\n",
      "image 60/91 C:\\Users\\hp\\python\\datasets\\test\\frame-325.jpg: 384x640 1 car, 1 truck, 2600.7ms\n",
      "image 61/91 C:\\Users\\hp\\python\\datasets\\test\\frame-3305.jpg: 384x640 1 car, 4 trucks, 2691.1ms\n",
      "image 62/91 C:\\Users\\hp\\python\\datasets\\test\\frame-3310.jpg: 384x640 2 cars, 4 trucks, 2460.3ms\n",
      "image 63/91 C:\\Users\\hp\\python\\datasets\\test\\frame-3320.jpg: 384x640 1 car, 1 motorcycle, 2 trucks, 2561.3ms\n",
      "image 64/91 C:\\Users\\hp\\python\\datasets\\test\\frame-3440.jpg: 384x640 1 person, 1 car, 1 motorcycle, 1 truck, 2511.4ms\n",
      "image 65/91 C:\\Users\\hp\\python\\datasets\\test\\frame-3480.jpg: 384x640 2 cars, 1 parking meter, 2611.0ms\n",
      "image 66/91 C:\\Users\\hp\\python\\datasets\\test\\frame-3490.jpg: 384x640 3 cars, 2 parking meters, 2460.0ms\n",
      "image 67/91 C:\\Users\\hp\\python\\datasets\\test\\frame-3505.jpg: 384x640 2 cars, 1 parking meter, 2498.2ms\n",
      "image 68/91 C:\\Users\\hp\\python\\datasets\\test\\frame-3510.jpg: 384x640 2 cars, 1 parking meter, 3004.0ms\n",
      "image 69/91 C:\\Users\\hp\\python\\datasets\\test\\frame-3570.jpg: 384x640 2 trucks, 2790.6ms\n",
      "image 70/91 C:\\Users\\hp\\python\\datasets\\test\\frame-3575.jpg: 384x640 2 trucks, 2460.7ms\n",
      "image 71/91 C:\\Users\\hp\\python\\datasets\\test\\frame-365.jpg: 384x640 1 car, 1 truck, 2830.1ms\n",
      "image 72/91 C:\\Users\\hp\\python\\datasets\\test\\frame-3735.jpg: 384x640 3 persons, 2 cars, 1 motorcycle, 2 trucks, 2786.5ms\n",
      "image 73/91 C:\\Users\\hp\\python\\datasets\\test\\frame-3775.jpg: 384x640 2 cars, 3 trucks, 2529.4ms\n",
      "image 74/91 C:\\Users\\hp\\python\\datasets\\test\\frame-3890.jpg: 384x640 1 person, 1 car, 1 motorcycle, 2529.9ms\n",
      "image 75/91 C:\\Users\\hp\\python\\datasets\\test\\frame-3895.jpg: 384x640 1 person, 1 car, 1 motorcycle, 1 truck, 2662.0ms\n",
      "image 76/91 C:\\Users\\hp\\python\\datasets\\test\\frame-3935.jpg: 384x640 1 person, 2 cars, 1 motorcycle, 1 truck, 2580.2ms\n",
      "image 77/91 C:\\Users\\hp\\python\\datasets\\test\\frame-3980.jpg: 384x640 4 cars, 2547.2ms\n",
      "image 78/91 C:\\Users\\hp\\python\\datasets\\test\\frame-415.jpg: 384x640 1 person, 1 car, 1 motorcycle, 1 truck, 2409.6ms\n",
      "image 79/91 C:\\Users\\hp\\python\\datasets\\test\\frame-480.jpg: 384x640 2 persons, 2 motorcycles, 1 truck, 2520.4ms\n",
      "image 80/91 C:\\Users\\hp\\python\\datasets\\test\\frame-485.jpg: 384x640 2 persons, 2 motorcycles, 1 truck, 2564.2ms\n",
      "image 81/91 C:\\Users\\hp\\python\\datasets\\test\\frame-490.jpg: 384x640 2 trucks, 2540.7ms\n",
      "image 82/91 C:\\Users\\hp\\python\\datasets\\test\\frame-5.jpg: 384x640 3 cars, 1 truck, 2482.6ms\n",
      "image 83/91 C:\\Users\\hp\\python\\datasets\\test\\frame-520.jpg: 384x640 1 car, 1 truck, 2872.2ms\n",
      "image 84/91 C:\\Users\\hp\\python\\datasets\\test\\frame-525.jpg: 384x640 1 person, 2 cars, 1 motorcycle, 1 truck, 2587.4ms\n",
      "image 85/91 C:\\Users\\hp\\python\\datasets\\test\\frame-560.jpg: 384x640 1 person, 3 cars, 2 trucks, 2547.6ms\n",
      "image 86/91 C:\\Users\\hp\\python\\datasets\\test\\frame-630.jpg: 384x640 1 person, 2 cars, 1 motorcycle, 1 parking meter, 2649.1ms\n",
      "image 87/91 C:\\Users\\hp\\python\\datasets\\test\\frame-65.jpg: 384x640 3 cars, 1 truck, 2639.9ms\n",
      "image 88/91 C:\\Users\\hp\\python\\datasets\\test\\frame-720.jpg: 384x640 1 car, 1 bus, 1 truck, 2521.0ms\n",
      "image 89/91 C:\\Users\\hp\\python\\datasets\\test\\frame-775.jpg: 384x640 1 person, 1 car, 2 motorcycles, 2575.7ms\n",
      "image 90/91 C:\\Users\\hp\\python\\datasets\\test\\frame-785.jpg: 384x640 1 person, 1 car, 1 motorcycle, 2490.1ms\n",
      "image 91/91 C:\\Users\\hp\\python\\datasets\\test\\frame-835.jpg: 384x640 2 persons, 1 car, 1 motorcycle, 1 truck, 2650.6ms\n",
      "Speed: 7.1ms preprocess, 3057.1ms inference, 5.6ms postprocess per image at shape (1, 3, 384, 640)\n",
      "91\n"
     ]
    }
   ],
   "source": [
    "model2 = YOLO(best_path0)\n",
    "!yolo task=detect mode=predict model={best_path0} conf=0.7 source={source0}\n",
    "results = model2.predict(source0, conf=0.7)\n",
    "print(len(results))\n"
   ]
  },
  {
   "cell_type": "code",
   "execution_count": 62,
   "metadata": {},
   "outputs": [
    {
     "name": "stdout",
     "output_type": "stream",
     "text": [
      "tensor([], size=(0, 6))\n"
     ]
    }
   ],
   "source": [
    "print((results[0].boxes.data))\n"
   ]
  },
  {
   "cell_type": "code",
   "execution_count": 63,
   "metadata": {},
   "outputs": [
    {
     "data": {
      "text/html": [
       "<div>\n",
       "<style scoped>\n",
       "    .dataframe tbody tr th:only-of-type {\n",
       "        vertical-align: middle;\n",
       "    }\n",
       "\n",
       "    .dataframe tbody tr th {\n",
       "        vertical-align: top;\n",
       "    }\n",
       "\n",
       "    .dataframe thead th {\n",
       "        text-align: right;\n",
       "    }\n",
       "</style>\n",
       "<table border=\"1\" class=\"dataframe\">\n",
       "  <thead>\n",
       "    <tr style=\"text-align: right;\">\n",
       "      <th></th>\n",
       "      <th>x</th>\n",
       "      <th>y</th>\n",
       "      <th>x2</th>\n",
       "      <th>y2</th>\n",
       "      <th>confidence</th>\n",
       "      <th>class</th>\n",
       "      <th>file</th>\n",
       "      <th>i</th>\n",
       "    </tr>\n",
       "  </thead>\n",
       "  <tbody>\n",
       "  </tbody>\n",
       "</table>\n",
       "</div>"
      ],
      "text/plain": [
       "Empty DataFrame\n",
       "Columns: [x, y, x2, y2, confidence, class, file, i]\n",
       "Index: []"
      ]
     },
     "metadata": {},
     "output_type": "display_data"
    }
   ],
   "source": [
    "PBOX=pd.DataFrame(columns=range(6))\n",
    "for i in range(len(results)):\n",
    "    arri=pd.DataFrame(results[i].boxes.data.cpu().numpy()).astype(float)\n",
    "    path=ppaths[i]\n",
    "    file=path.split('/')[-1]\n",
    "    arri=arri.assign(file=file)\n",
    "    arri=arri.assign(i=i)\n",
    "    PBOX=pd.concat([PBOX,arri],axis=0)\n",
    "PBOX.columns=['x','y','x2','y2','confidence','class','file','i']\n",
    "display(PBOX)\n"
   ]
  },
  {
   "cell_type": "code",
   "execution_count": 64,
   "metadata": {},
   "outputs": [],
   "source": [
    "def draw_box2(n0):\n",
    "    \n",
    "    ipath=ppaths[n0]\n",
    "    image=cv2.imread(ipath)\n",
    "    H,W=image.shape[0],image.shape[1]\n",
    "    file=ipath.split('/')[-1]\n",
    "    \n",
    "    if PBOX[PBOX['file']==file] is not None:\n",
    "        box=PBOX[PBOX['file']==file]\n",
    "        box=box.reset_index(drop=True)\n",
    "        #display(box)\n",
    "\n",
    "        for i in range(len(box)):\n",
    "            label=box.loc[i,'class']\n",
    "            x=int(box.loc[i,'x'])\n",
    "            y=int(box.loc[i,'y'])\n",
    "            x2=int(box.loc[i,'x2']) \n",
    "            y2=int(box.loc[i,'y2'])\n",
    "            cv2.rectangle(image,(x,y),(x2,y2),(0,255,0),3)\n",
    "\n",
    "    return image\n"
   ]
  },
  {
   "cell_type": "code",
   "execution_count": 65,
   "metadata": {},
   "outputs": [],
   "source": [
    "def create_animation(ims):\n",
    "    fig=plt.figure(figsize=(12,8))\n",
    "    im=plt.imshow(cv2.cvtColor(ims[0],cv2.COLOR_BGR2RGB))\n",
    "    text = plt.text(0.05, 0.05, f'Slide {0}', transform=fig.transFigure, fontsize=14, color='blue')\n",
    "    plt.axis('off')\n",
    "    plt.close()\n",
    "\n",
    "    def animate_func(i):\n",
    "        im.set_array(cv2.cvtColor(ims[i],cv2.COLOR_BGR2RGB))\n",
    "        text.set_text(f'Slide {i}')        \n",
    "        return [im]    \n",
    "    \n",
    "    return animation.FuncAnimation(fig, animate_func, frames=len(ims), interval=1000)\n"
   ]
  },
  {
   "cell_type": "code",
   "execution_count": 66,
   "metadata": {},
   "outputs": [
    {
     "name": "stderr",
     "output_type": "stream",
     "text": [
      "100%|██████████| 91/91 [00:05<00:00, 18.04it/s]\n"
     ]
    }
   ],
   "source": [
    "images2=[]\n",
    "for i in tqdm(range(len(ppaths))):\n",
    "    images2+=[draw_box2(i)]\n",
    "    "
   ]
  },
  {
   "cell_type": "code",
   "execution_count": 42,
   "metadata": {},
   "outputs": [
    {
     "name": "stderr",
     "output_type": "stream",
     "text": [
      "'yolo' is not recognized as an internal or external command,\n",
      "operable program or batch file.\n"
     ]
    },
    {
     "name": "stdout",
     "output_type": "stream",
     "text": [
      "\n",
      "image 1/91 C:\\Users\\hp\\python\\datasets\\test\\frame-1075.jpg: 384x640 3 persons, 2 cars, 2 motorcycles, 1 parking meter, 3015.9ms\n",
      "image 2/91 C:\\Users\\hp\\python\\datasets\\test\\frame-1110.jpg: 384x640 4 persons, 1 car, 1 motorcycle, 1 parking meter, 2947.0ms\n",
      "image 3/91 C:\\Users\\hp\\python\\datasets\\test\\frame-1235.jpg: 384x640 1 bus, 2805.1ms\n",
      "image 4/91 C:\\Users\\hp\\python\\datasets\\test\\frame-1240.jpg: 384x640 1 bus, 2636.2ms\n",
      "image 5/91 C:\\Users\\hp\\python\\datasets\\test\\frame-1270.jpg: 384x640 1 car, 1 bus, 1 truck, 1 parking meter, 2707.4ms\n",
      "image 6/91 C:\\Users\\hp\\python\\datasets\\test\\frame-1345.jpg: 384x640 1 car, 1 truck, 4342.6ms\n",
      "image 7/91 C:\\Users\\hp\\python\\datasets\\test\\frame-150.jpg: 384x640 1 person, 1 car, 2 trucks, 3214.4ms\n",
      "image 8/91 C:\\Users\\hp\\python\\datasets\\test\\frame-1550.jpg: 384x640 1 person, 1 motorcycle, 1 toilet, 3953.7ms\n",
      "image 9/91 C:\\Users\\hp\\python\\datasets\\test\\frame-1575.jpg: 384x640 1 person, 1 car, 1 motorcycle, 4740.1ms\n",
      "image 10/91 C:\\Users\\hp\\python\\datasets\\test\\frame-170.jpg: 384x640 1 person, 4 cars, 1 motorcycle, 1 truck, 1 parking meter, 4961.8ms\n",
      "image 11/91 C:\\Users\\hp\\python\\datasets\\test\\frame-1705.jpg: 384x640 1 car, 3722.1ms\n",
      "image 12/91 C:\\Users\\hp\\python\\datasets\\test\\frame-1710.jpg: 384x640 1 car, 2667.4ms\n",
      "image 13/91 C:\\Users\\hp\\python\\datasets\\test\\frame-1715.jpg: 384x640 1 car, 3505.8ms\n",
      "image 14/91 C:\\Users\\hp\\python\\datasets\\test\\frame-1725.jpg: 384x640 3 persons, 2 cars, 2 motorcycles, 1 truck, 2675.2ms\n",
      "image 15/91 C:\\Users\\hp\\python\\datasets\\test\\frame-175.jpg: 384x640 1 person, 4 cars, 1 motorcycle, 1 truck, 2693.2ms\n",
      "image 16/91 C:\\Users\\hp\\python\\datasets\\test\\frame-1800.jpg: 384x640 1 car, 1 truck, 2883.0ms\n",
      "image 17/91 C:\\Users\\hp\\python\\datasets\\test\\frame-1860.jpg: 384x640 1 car, 2 trucks, 4935.0ms\n",
      "image 18/91 C:\\Users\\hp\\python\\datasets\\test\\frame-1880.jpg: 384x640 1 person, 2 cars, 1 motorcycle, 1 truck, 3255.2ms\n",
      "image 19/91 C:\\Users\\hp\\python\\datasets\\test\\frame-190.jpg: 384x640 1 person, 1 car, 1 bus, 2 trucks, 2807.3ms\n",
      "image 20/91 C:\\Users\\hp\\python\\datasets\\test\\frame-1915.jpg: 384x640 2 persons, 2 cars, 1 motorcycle, 1 truck, 2813.9ms\n",
      "image 21/91 C:\\Users\\hp\\python\\datasets\\test\\frame-2010.jpg: 384x640 1 car, 1 bus, 2707.9ms\n",
      "image 22/91 C:\\Users\\hp\\python\\datasets\\test\\frame-2015.jpg: 384x640 1 car, 1 bus, 2699.8ms\n",
      "image 23/91 C:\\Users\\hp\\python\\datasets\\test\\frame-2065.jpg: 384x640 1 motorcycle, 1 bus, 1 truck, 2704.8ms\n",
      "image 24/91 C:\\Users\\hp\\python\\datasets\\test\\frame-2090.jpg: 384x640 1 bus, 1 truck, 2831.3ms\n",
      "image 25/91 C:\\Users\\hp\\python\\datasets\\test\\frame-2245.jpg: 384x640 1 car, 2551.0ms\n",
      "image 26/91 C:\\Users\\hp\\python\\datasets\\test\\frame-225.jpg: 384x640 1 person, 1 bicycle, 1 bus, 1 truck, 2684.8ms\n",
      "image 27/91 C:\\Users\\hp\\python\\datasets\\test\\frame-2270.jpg: 384x640 3 cars, 1 truck, 2604.0ms\n",
      "image 28/91 C:\\Users\\hp\\python\\datasets\\test\\frame-2280.jpg: 384x640 1 car, 1 truck, 2579.3ms\n",
      "image 29/91 C:\\Users\\hp\\python\\datasets\\test\\frame-2300.jpg: 384x640 1 truck, 2606.9ms\n",
      "image 30/91 C:\\Users\\hp\\python\\datasets\\test\\frame-2340.jpg: 384x640 3 cars, 2833.3ms\n",
      "image 31/91 C:\\Users\\hp\\python\\datasets\\test\\frame-2375.jpg: 384x640 1 car, 1 bus, 2637.1ms\n",
      "image 32/91 C:\\Users\\hp\\python\\datasets\\test\\frame-2475.jpg: 384x640 2 trucks, 2572.5ms\n",
      "image 33/91 C:\\Users\\hp\\python\\datasets\\test\\frame-2480.jpg: 384x640 1 motorcycle, 2 trucks, 2614.8ms\n",
      "image 34/91 C:\\Users\\hp\\python\\datasets\\test\\frame-25.jpg: 384x640 3 cars, 2542.5ms\n",
      "image 35/91 C:\\Users\\hp\\python\\datasets\\test\\frame-2540.jpg: 384x640 2 cars, 2680.1ms\n",
      "image 36/91 C:\\Users\\hp\\python\\datasets\\test\\frame-2550.jpg: 384x640 1 car, 1 truck, 3032.2ms\n",
      "image 37/91 C:\\Users\\hp\\python\\datasets\\test\\frame-260.jpg: 384x640 1 person, 1 bicycle, 1 truck, 2771.5ms\n",
      "image 38/91 C:\\Users\\hp\\python\\datasets\\test\\frame-2600.jpg: 384x640 3 cars, 1 truck, 2905.0ms\n",
      "image 39/91 C:\\Users\\hp\\python\\datasets\\test\\frame-2610.jpg: 384x640 4 cars, 1 truck, 1 parking meter, 2639.9ms\n",
      "image 40/91 C:\\Users\\hp\\python\\datasets\\test\\frame-265.jpg: 384x640 1 person, 2 cars, 1 motorcycle, 2765.9ms\n",
      "image 41/91 C:\\Users\\hp\\python\\datasets\\test\\frame-2650.jpg: 384x640 1 car, 1 truck, 3455.6ms\n",
      "image 42/91 C:\\Users\\hp\\python\\datasets\\test\\frame-2665.jpg: 384x640 3 cars, 3239.6ms\n",
      "image 43/91 C:\\Users\\hp\\python\\datasets\\test\\frame-270.jpg: 384x640 2 persons, 2 cars, 1 motorcycle, 3005.0ms\n",
      "image 44/91 C:\\Users\\hp\\python\\datasets\\test\\frame-2735.jpg: 384x640 1 person, 3 cars, 1 motorcycle, 3379.9ms\n",
      "image 45/91 C:\\Users\\hp\\python\\datasets\\test\\frame-2760.jpg: 384x640 3 cars, 1 truck, 2765.5ms\n",
      "image 46/91 C:\\Users\\hp\\python\\datasets\\test\\frame-2785.jpg: 384x640 1 person, 4 cars, 1 motorcycle, 2743.4ms\n",
      "image 47/91 C:\\Users\\hp\\python\\datasets\\test\\frame-2810.jpg: 384x640 1 bus, 2 trucks, 2829.8ms\n",
      "image 48/91 C:\\Users\\hp\\python\\datasets\\test\\frame-2855.jpg: 384x640 1 car, 1 bus, 1 truck, 2945.1ms\n",
      "image 49/91 C:\\Users\\hp\\python\\datasets\\test\\frame-2925.jpg: 384x640 1 bus, 2769.1ms\n",
      "image 50/91 C:\\Users\\hp\\python\\datasets\\test\\frame-2955.jpg: 384x640 1 bus, 1 parking meter, 2842.2ms\n",
      "image 51/91 C:\\Users\\hp\\python\\datasets\\test\\frame-30.jpg: 384x640 3 cars, 2980.3ms\n",
      "image 52/91 C:\\Users\\hp\\python\\datasets\\test\\frame-3000.jpg: 384x640 2 cars, 1 bus, 2769.4ms\n",
      "image 53/91 C:\\Users\\hp\\python\\datasets\\test\\frame-305.jpg: 384x640 2 cars, 3146.6ms\n",
      "image 54/91 C:\\Users\\hp\\python\\datasets\\test\\frame-3055.jpg: 384x640 1 person, 1 car, 1 motorcycle, 1 bus, 2760.7ms\n",
      "image 55/91 C:\\Users\\hp\\python\\datasets\\test\\frame-3115.jpg: 384x640 1 person, 2 cars, 1 motorcycle, 2690.9ms\n",
      "image 56/91 C:\\Users\\hp\\python\\datasets\\test\\frame-3135.jpg: 384x640 2 trucks, 2909.5ms\n",
      "image 57/91 C:\\Users\\hp\\python\\datasets\\test\\frame-315.jpg: 384x640 2 cars, 3280.0ms\n",
      "image 58/91 C:\\Users\\hp\\python\\datasets\\test\\frame-3155.jpg: 384x640 1 car, 3 trucks, 3375.3ms\n",
      "image 59/91 C:\\Users\\hp\\python\\datasets\\test\\frame-3240.jpg: 384x640 1 person, 1 car, 2694.9ms\n",
      "image 60/91 C:\\Users\\hp\\python\\datasets\\test\\frame-325.jpg: 384x640 1 car, 1 truck, 2895.4ms\n",
      "image 61/91 C:\\Users\\hp\\python\\datasets\\test\\frame-3305.jpg: 384x640 1 car, 4 trucks, 2911.8ms\n",
      "image 62/91 C:\\Users\\hp\\python\\datasets\\test\\frame-3310.jpg: 384x640 2 cars, 4 trucks, 2630.5ms\n",
      "image 63/91 C:\\Users\\hp\\python\\datasets\\test\\frame-3320.jpg: 384x640 1 car, 1 motorcycle, 2 trucks, 2750.7ms\n",
      "image 64/91 C:\\Users\\hp\\python\\datasets\\test\\frame-3440.jpg: 384x640 1 person, 1 car, 1 motorcycle, 1 truck, 2705.0ms\n",
      "image 65/91 C:\\Users\\hp\\python\\datasets\\test\\frame-3480.jpg: 384x640 2 cars, 1 parking meter, 2845.2ms\n",
      "image 66/91 C:\\Users\\hp\\python\\datasets\\test\\frame-3490.jpg: 384x640 3 cars, 2 parking meters, 2854.7ms\n",
      "image 67/91 C:\\Users\\hp\\python\\datasets\\test\\frame-3505.jpg: 384x640 2 cars, 1 parking meter, 2570.6ms\n",
      "image 68/91 C:\\Users\\hp\\python\\datasets\\test\\frame-3510.jpg: 384x640 2 cars, 1 parking meter, 2678.5ms\n",
      "image 69/91 C:\\Users\\hp\\python\\datasets\\test\\frame-3570.jpg: 384x640 2 trucks, 2599.6ms\n",
      "image 70/91 C:\\Users\\hp\\python\\datasets\\test\\frame-3575.jpg: 384x640 2 trucks, 2601.6ms\n",
      "image 71/91 C:\\Users\\hp\\python\\datasets\\test\\frame-365.jpg: 384x640 1 car, 1 truck, 2534.5ms\n",
      "image 72/91 C:\\Users\\hp\\python\\datasets\\test\\frame-3735.jpg: 384x640 3 persons, 2 cars, 1 motorcycle, 2 trucks, 2846.5ms\n",
      "image 73/91 C:\\Users\\hp\\python\\datasets\\test\\frame-3775.jpg: 384x640 2 cars, 3 trucks, 2646.6ms\n",
      "image 74/91 C:\\Users\\hp\\python\\datasets\\test\\frame-3890.jpg: 384x640 1 person, 1 car, 1 motorcycle, 2657.0ms\n",
      "image 75/91 C:\\Users\\hp\\python\\datasets\\test\\frame-3895.jpg: 384x640 1 person, 1 car, 1 motorcycle, 1 truck, 2535.0ms\n",
      "image 76/91 C:\\Users\\hp\\python\\datasets\\test\\frame-3935.jpg: 384x640 1 person, 2 cars, 1 motorcycle, 1 truck, 2740.8ms\n",
      "image 77/91 C:\\Users\\hp\\python\\datasets\\test\\frame-3980.jpg: 384x640 4 cars, 2665.8ms\n",
      "image 78/91 C:\\Users\\hp\\python\\datasets\\test\\frame-415.jpg: 384x640 1 person, 1 car, 1 motorcycle, 1 truck, 3580.3ms\n",
      "image 79/91 C:\\Users\\hp\\python\\datasets\\test\\frame-480.jpg: 384x640 2 persons, 2 motorcycles, 1 truck, 4376.4ms\n",
      "image 80/91 C:\\Users\\hp\\python\\datasets\\test\\frame-485.jpg: 384x640 2 persons, 2 motorcycles, 1 truck, 4010.3ms\n",
      "image 81/91 C:\\Users\\hp\\python\\datasets\\test\\frame-490.jpg: 384x640 2 trucks, 4113.6ms\n",
      "image 82/91 C:\\Users\\hp\\python\\datasets\\test\\frame-5.jpg: 384x640 3 cars, 1 truck, 3828.5ms\n",
      "image 83/91 C:\\Users\\hp\\python\\datasets\\test\\frame-520.jpg: 384x640 1 car, 1 truck, 3533.5ms\n",
      "image 84/91 C:\\Users\\hp\\python\\datasets\\test\\frame-525.jpg: 384x640 1 person, 2 cars, 1 motorcycle, 1 truck, 3201.8ms\n",
      "image 85/91 C:\\Users\\hp\\python\\datasets\\test\\frame-560.jpg: 384x640 1 person, 3 cars, 2 trucks, 2595.2ms\n",
      "image 86/91 C:\\Users\\hp\\python\\datasets\\test\\frame-630.jpg: 384x640 1 person, 2 cars, 1 motorcycle, 1 parking meter, 2625.3ms\n",
      "image 87/91 C:\\Users\\hp\\python\\datasets\\test\\frame-65.jpg: 384x640 3 cars, 1 truck, 2644.2ms\n",
      "image 88/91 C:\\Users\\hp\\python\\datasets\\test\\frame-720.jpg: 384x640 1 car, 1 bus, 1 truck, 3368.8ms\n",
      "image 89/91 C:\\Users\\hp\\python\\datasets\\test\\frame-775.jpg: 384x640 1 person, 1 car, 2 motorcycles, 2947.0ms\n",
      "image 90/91 C:\\Users\\hp\\python\\datasets\\test\\frame-785.jpg: 384x640 1 person, 1 car, 1 motorcycle, 2872.1ms\n",
      "image 91/91 C:\\Users\\hp\\python\\datasets\\test\\frame-835.jpg: 384x640 2 persons, 1 car, 1 motorcycle, 1 truck, 2589.9ms\n",
      "Speed: 6.7ms preprocess, 2997.7ms inference, 5.6ms postprocess per image at shape (1, 3, 384, 640)\n"
     ]
    }
   ],
   "source": [
    "model2 = YOLO(best_path0)\n",
    "!yolo task=detect mode=predict model={best_path0} conf=0.7 source={source0}\n",
    "results = model2.predict(source0, conf=0.7)\n"
   ]
  },
  {
   "cell_type": "code",
   "execution_count": 43,
   "metadata": {},
   "outputs": [],
   "source": [
    "confidence_scores = []\n",
    "for result in results:\n",
    "    for box in result.boxes:\n",
    "        confidence_scores.append(box.conf.item())\n"
   ]
  },
  {
   "cell_type": "code",
   "execution_count": 44,
   "metadata": {},
   "outputs": [
    {
     "name": "stdout",
     "output_type": "stream",
     "text": [
      "Average Confidence Score: 0.8469220564602324\n"
     ]
    }
   ],
   "source": [
    "average_confidence_score = sum(confidence_scores) / len(co nfidence_scores) if confidence_scores else 0\n",
    "print(\"Average Confidence Score:\", average_confidence_score)\n"
   ]
  },
  {
   "cell_type": "code",
   "execution_count": null,
   "metadata": {},
   "outputs": [],
   "source": []
  }
 ],
 "metadata": {
  "kernelspec": {
   "display_name": "myenv",
   "language": "python",
   "name": "python3"
  },
  "language_info": {
   "codemirror_mode": {
    "name": "ipython",
    "version": 3
   },
   "file_extension": ".py",
   "mimetype": "text/x-python",
   "name": "python",
   "nbconvert_exporter": "python",
   "pygments_lexer": "ipython3",
   "version": "3.12.2"
  }
 },
 "nbformat": 4,
 "nbformat_minor": 2
}
